{
 "cells": [
  {
   "cell_type": "markdown",
   "metadata": {},
   "source": [
    "# Statistical Data Analysis"
   ]
  },
  {
   "cell_type": "markdown",
   "metadata": {},
   "source": [
    "Statistical data analysis can be performed in two ways:\n",
    "1. Descriptive Statistical Analysis\n",
    "This type of analysis is done to summarize the data from a sample. It attempts at illustrating the relationship between variables in a sample or population and gives summary.\n",
    "Eg: Mean, Median, Mode, Standard deviation, and Variance etc.\n",
    "2. Inferential Statistical Analysis\n",
    "This type of analysis is done for making conclusions from the data sample by using null and alternative hypotheses that are subject to random variation. It takes a random sample of data from a population and explains inferences about the whole population.\n",
    "Eg: Probability distribution, Correlation testing and Regression Analysis etc."
   ]
  },
  {
   "cell_type": "markdown",
   "metadata": {},
   "source": [
    "In this chapter, let us consider a few data sets to perform statistical data analysis and draw inferences."
   ]
  },
  {
   "cell_type": "markdown",
   "metadata": {},
   "source": [
    "# Descriptive Statistics"
   ]
  },
  {
   "cell_type": "markdown",
   "metadata": {},
   "source": [
    "Data set - Retail Sales Data from Kaggle. <br> \n",
    "Ref: https://www.kaggle.com/ashkash247/retail-sales-data"
   ]
  },
  {
   "cell_type": "code",
   "execution_count": 4,
   "metadata": {},
   "outputs": [],
   "source": [
    "import pandas as pd\n",
    "df = pd.read_csv('./Retail_Sales_Data.csv')"
   ]
  },
  {
   "cell_type": "code",
   "execution_count": 5,
   "metadata": {},
   "outputs": [
    {
     "data": {
      "text/html": [
       "<div>\n",
       "<style scoped>\n",
       "    .dataframe tbody tr th:only-of-type {\n",
       "        vertical-align: middle;\n",
       "    }\n",
       "\n",
       "    .dataframe tbody tr th {\n",
       "        vertical-align: top;\n",
       "    }\n",
       "\n",
       "    .dataframe thead th {\n",
       "        text-align: right;\n",
       "    }\n",
       "</style>\n",
       "<table border=\"1\" class=\"dataframe\">\n",
       "  <thead>\n",
       "    <tr style=\"text-align: right;\">\n",
       "      <th></th>\n",
       "      <th>Transaction_ID</th>\n",
       "      <th>Customer_ID</th>\n",
       "      <th>State</th>\n",
       "      <th>Age</th>\n",
       "      <th>Shop_Category</th>\n",
       "      <th>Sales</th>\n",
       "      <th>Gender</th>\n",
       "      <th>Items_in_basket</th>\n",
       "    </tr>\n",
       "  </thead>\n",
       "  <tbody>\n",
       "    <tr>\n",
       "      <th>0</th>\n",
       "      <td>1</td>\n",
       "      <td>1234</td>\n",
       "      <td>MP</td>\n",
       "      <td>10</td>\n",
       "      <td>Grocery</td>\n",
       "      <td>10</td>\n",
       "      <td>M</td>\n",
       "      <td>2</td>\n",
       "    </tr>\n",
       "    <tr>\n",
       "      <th>1</th>\n",
       "      <td>2</td>\n",
       "      <td>1235</td>\n",
       "      <td>UP</td>\n",
       "      <td>21</td>\n",
       "      <td>Dairy</td>\n",
       "      <td>30</td>\n",
       "      <td>F</td>\n",
       "      <td>3</td>\n",
       "    </tr>\n",
       "    <tr>\n",
       "      <th>2</th>\n",
       "      <td>3</td>\n",
       "      <td>1236</td>\n",
       "      <td>AP</td>\n",
       "      <td>23</td>\n",
       "      <td>Deli</td>\n",
       "      <td>23</td>\n",
       "      <td>F</td>\n",
       "      <td>4</td>\n",
       "    </tr>\n",
       "    <tr>\n",
       "      <th>3</th>\n",
       "      <td>4</td>\n",
       "      <td>1237</td>\n",
       "      <td>RP</td>\n",
       "      <td>25</td>\n",
       "      <td>Meat</td>\n",
       "      <td>21</td>\n",
       "      <td>F</td>\n",
       "      <td>4</td>\n",
       "    </tr>\n",
       "    <tr>\n",
       "      <th>4</th>\n",
       "      <td>5</td>\n",
       "      <td>1238</td>\n",
       "      <td>DP</td>\n",
       "      <td>27</td>\n",
       "      <td>Clothes</td>\n",
       "      <td>90</td>\n",
       "      <td>F</td>\n",
       "      <td>3</td>\n",
       "    </tr>\n",
       "  </tbody>\n",
       "</table>\n",
       "</div>"
      ],
      "text/plain": [
       "   Transaction_ID  Customer_ID State  Age Shop_Category  Sales Gender  \\\n",
       "0               1         1234    MP   10       Grocery     10      M   \n",
       "1               2         1235    UP   21         Dairy     30      F   \n",
       "2               3         1236    AP   23          Deli     23      F   \n",
       "3               4         1237    RP   25          Meat     21      F   \n",
       "4               5         1238    DP   27       Clothes     90      F   \n",
       "\n",
       "   Items_in_basket  \n",
       "0                2  \n",
       "1                3  \n",
       "2                4  \n",
       "3                4  \n",
       "4                3  "
      ]
     },
     "execution_count": 5,
     "metadata": {},
     "output_type": "execute_result"
    }
   ],
   "source": [
    "df.head()"
   ]
  },
  {
   "cell_type": "markdown",
   "metadata": {},
   "source": [
    "We can observe that there are 8 variables/columns in the data."
   ]
  },
  {
   "cell_type": "code",
   "execution_count": 6,
   "metadata": {},
   "outputs": [
    {
     "data": {
      "text/plain": [
       "(312, 8)"
      ]
     },
     "execution_count": 6,
     "metadata": {},
     "output_type": "execute_result"
    }
   ],
   "source": [
    "df.shape"
   ]
  },
  {
   "cell_type": "markdown",
   "metadata": {},
   "source": [
    "The data contains 312 records and 8 variables (or) the dimensionality of the data is 312 x 8."
   ]
  },
  {
   "cell_type": "markdown",
   "metadata": {},
   "source": [
    "## Measures of Frequency\n",
    "\n",
    "Measures of frequency generally help to determing the counts, frequency or percentage of occurences of the variables in the data.\n",
    "\n",
    "    1. Count\n",
    "    2. Percent\n",
    "    3. Frequency\n",
    "    "
   ]
  },
  {
   "cell_type": "markdown",
   "metadata": {},
   "source": [
    "### Q1. How many transactions were made by female and male?"
   ]
  },
  {
   "cell_type": "code",
   "execution_count": 8,
   "metadata": {},
   "outputs": [
    {
     "name": "stdout",
     "output_type": "stream",
     "text": [
      "F    209\n",
      "M    103\n",
      "Name: Gender, dtype: int64\n"
     ]
    }
   ],
   "source": [
    "genderDist = df['Gender'].value_counts()\n",
    "print(genderDist)"
   ]
  },
  {
   "cell_type": "markdown",
   "metadata": {},
   "source": [
    "<font color=\"red\">Ans(1). We can observe that, of all the transactions, 209 transactions were made by female and 103 by male.</font>"
   ]
  },
  {
   "cell_type": "markdown",
   "metadata": {},
   "source": [
    "### Q2. What percent is male and female?"
   ]
  },
  {
   "cell_type": "code",
   "execution_count": 10,
   "metadata": {},
   "outputs": [
    {
     "name": "stdout",
     "output_type": "stream",
     "text": [
      "Male %: 33.01282051282051\n",
      "Female %: 66.98717948717949\n"
     ]
    }
   ],
   "source": [
    "malePercent = genderDist[1] * 100 / (genderDist[0] + genderDist[1])\n",
    "femalePercent = genderDist[0] * 100 / (genderDist[0] + genderDist[1])\n",
    "print(\"Male %: \" + str(malePercent))\n",
    "print(\"Female %: \" + str(femalePercent))"
   ]
  },
  {
   "cell_type": "markdown",
   "metadata": {},
   "source": [
    "### Q3. How many transactions were made from each state? Which state has highest number of transactions?"
   ]
  },
  {
   "cell_type": "code",
   "execution_count": 9,
   "metadata": {},
   "outputs": [
    {
     "name": "stdout",
     "output_type": "stream",
     "text": [
      "DP    97\n",
      "AP    56\n",
      "KP    52\n",
      "RP    51\n",
      "UP    28\n",
      "MP    28\n",
      "Name: State, dtype: int64\n"
     ]
    }
   ],
   "source": [
    "stateTrans = df[\"State\"].value_counts()\n",
    "print(stateTrans)"
   ]
  },
  {
   "cell_type": "markdown",
   "metadata": {},
   "source": [
    "<font color=\"red\">Ans(3). State DP has highest number of transactions.</font>"
   ]
  },
  {
   "cell_type": "markdown",
   "metadata": {},
   "source": [
    "### Measures of Central Tendency\n",
    "Measures of central tendency give one number that represents the entire set of scores, such as:\n",
    "    1. Mean\n",
    "    2. Median\n",
    "    3. Mode"
   ]
  },
  {
   "cell_type": "markdown",
   "metadata": {},
   "source": [
    "### Q4. What are average number of items purchased in the given set of data?"
   ]
  },
  {
   "cell_type": "code",
   "execution_count": 31,
   "metadata": {},
   "outputs": [
    {
     "name": "stdout",
     "output_type": "stream",
     "text": [
      "4.336538461538462\n"
     ]
    }
   ],
   "source": [
    "print(df[\"Items_in_basket\"].mean())"
   ]
  },
  {
   "cell_type": "markdown",
   "metadata": {},
   "source": [
    "<font color=\"red\"> Average number of items in basket were around 4. </font>"
   ]
  },
  {
   "cell_type": "markdown",
   "metadata": {},
   "source": [
    "### Q5. What age groups have often purchased?"
   ]
  },
  {
   "cell_type": "code",
   "execution_count": 34,
   "metadata": {},
   "outputs": [
    {
     "name": "stdout",
     "output_type": "stream",
     "text": [
      "30\n"
     ]
    }
   ],
   "source": [
    "print(df[\"Age\"].mode()[0])"
   ]
  },
  {
   "cell_type": "markdown",
   "metadata": {},
   "source": [
    "### Q6. What is the median score of items purchased in a transaction?"
   ]
  },
  {
   "cell_type": "code",
   "execution_count": 35,
   "metadata": {},
   "outputs": [
    {
     "name": "stdout",
     "output_type": "stream",
     "text": [
      "4.0\n"
     ]
    }
   ],
   "source": [
    "print(df[\"Items_in_basket\"].median())"
   ]
  },
  {
   "cell_type": "markdown",
   "metadata": {},
   "source": [
    "<font color=\"red\">Ans(6). The median score for items in a basket distribution is 4. From Q3 we can observe that mean is also around 4 for this data. This could mean that the data is more or less evenly distributed from lowest to highest values. </font>"
   ]
  },
  {
   "cell_type": "markdown",
   "metadata": {},
   "source": [
    "## Measures of Variability\n",
    "Measures of variability indicate the degree to which scores differ around the average. These measures help to analyse how spread the data is.\n",
    "    1. Range\n",
    "    2. Variance\n",
    "    3. Standard Deviation"
   ]
  },
  {
   "cell_type": "markdown",
   "metadata": {},
   "source": [
    "### Q7. What is the range of items purchased in a transaction?"
   ]
  },
  {
   "cell_type": "code",
   "execution_count": 39,
   "metadata": {},
   "outputs": [
    {
     "name": "stdout",
     "output_type": "stream",
     "text": [
      "Range of items in basket\t2 - 23\n"
     ]
    }
   ],
   "source": [
    "print(\"Range of items in basket\\t\" + str(min(df[\"Items_in_basket\"])) +\" - \" + str(max(df[\"Items_in_basket\"])))"
   ]
  },
  {
   "cell_type": "markdown",
   "metadata": {},
   "source": [
    "### Q8. What is the variance and standard deviation of an item purchased in a transaction?"
   ]
  },
  {
   "cell_type": "code",
   "execution_count": 42,
   "metadata": {},
   "outputs": [
    {
     "name": "stdout",
     "output_type": "stream",
     "text": [
      "5.490879297551306\n",
      "2.343262532784431\n"
     ]
    }
   ],
   "source": [
    "print(df[\"Items_in_basket\"].var())\n",
    "print(df[\"Items_in_basket\"].std())"
   ]
  },
  {
   "cell_type": "markdown",
   "metadata": {},
   "source": [
    "<font color=\"red\">Variance is 5.49 and shows how far the data is spread out from the mean. Standard deviation shows how much variation (dispersion, spread, scatter) from the mean exists and for our data it is 2.34.</font>"
   ]
  },
  {
   "cell_type": "markdown",
   "metadata": {},
   "source": [
    "## Measures of Position\n",
    "A measure of position determines the position of a single value in relation to other values in a sample or a population data set. Unlike the mean and the standard deviation, descriptive measures based on quantiles are not sensitive to the influence of a few extreme observations. These measures can be:\n",
    "    \n",
    "    1. Percentiles\n",
    "    2. Quartiles\n",
    "    \n",
    "The pth percentile of the data set is a measurement such that after the data are ordered from smallest to largest, at most, p% of the data are at or below this value and at most, (100 - p)% at or above it.\n",
    "\n",
    "The median is the value where fifty percent or the data values fall at or below it. Therefore, the median is the 50th percentile.\n",
    "\n",
    "There are two other important percentiles. The 25th percentile, typically denoted, Q1, and the 75th percentile, typically denoted as Q3. Q1 is commonly called the lower quartile and Q3 is commonly called the upper quartile.\n",
    "    "
   ]
  },
  {
   "cell_type": "markdown",
   "metadata": {},
   "source": [
    "### Q9. What are the 25th (quartile Q1), 50th (quartile Q2), and 75th (quartile Q3) percentiles of the items in the basket data?"
   ]
  },
  {
   "cell_type": "code",
   "execution_count": 45,
   "metadata": {},
   "outputs": [
    {
     "name": "stdout",
     "output_type": "stream",
     "text": [
      "3.0\n",
      "4.0\n",
      "5.0\n"
     ]
    }
   ],
   "source": [
    "print(df[\"Items_in_basket\"].quantile(q=0.25))\n",
    "print(df[\"Items_in_basket\"].quantile(q=0.50))\n",
    "print(df[\"Items_in_basket\"].quantile(q=0.75))"
   ]
  },
  {
   "cell_type": "markdown",
   "metadata": {},
   "source": [
    "<font color=\"red\">We can observe that 25th percentile is at value - 3 which means 25% of the data is below value 3. Likewise, 50% of the data is below 4 and 75% of the data is below 5.\n",
    "Also, we can clearly notice that 50th percentiles is equal to median from Q6.</font>"
   ]
  }
 ],
 "metadata": {
  "kernelspec": {
   "display_name": "Python 3",
   "language": "python",
   "name": "python3"
  },
  "language_info": {
   "codemirror_mode": {
    "name": "ipython",
    "version": 3
   },
   "file_extension": ".py",
   "mimetype": "text/x-python",
   "name": "python",
   "nbconvert_exporter": "python",
   "pygments_lexer": "ipython3",
   "version": "3.7.3"
  }
 },
 "nbformat": 4,
 "nbformat_minor": 2
}
